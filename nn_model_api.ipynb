{
 "cells": [
  {
   "cell_type": "code",
   "execution_count": 1,
   "metadata": {},
   "outputs": [],
   "source": [
    "import numpy as np\n",
    "import tensorflow as tf\n",
    "import matplotlib.pyplot as plt"
   ]
  },
  {
   "cell_type": "code",
   "execution_count": 2,
   "metadata": {},
   "outputs": [],
   "source": [
    "#FUNCTION: create_placeholders\n",
    "# Example call:   X, Y = create_placeholders(100, 6)\n",
    "def create_nn_placeholders(n_x, n_y):\n",
    "    \"\"\"\n",
    "    Creates the placeholders for the tensorflow session.\n",
    "   \n",
    "    Arguments:\n",
    "    n_x -- scalar, size of the input X \n",
    "    n_y -- scalar, number of classes in Y \n",
    "   \n",
    "    Returns:\n",
    "    X -- placeholder for the data input, of shape [n_x, None] and dtype \"float\"\n",
    "    Y -- placeholder for the input labels, of shape [n_y, None] and dtype \"float\"\n",
    "   \n",
    "    Note:\n",
    "    - None is used as the second dimension below because it enables flexibility on the number of examples\n",
    "      we may have in the placeholders.\n",
    "      Note that the number of examples during test/train is different.\n",
    "    \"\"\"\n",
    "\n",
    "    X = tf.placeholder(shape=[n_x, None], dtype=tf.float32)\n",
    "    Y = tf.placeholder(shape=[n_y, None], dtype=tf.float32)\n",
    "   \n",
    "    return X, Y"
   ]
  },
  {
   "cell_type": "code",
   "execution_count": 3,
   "metadata": {},
   "outputs": [],
   "source": [
    "# FUNCTION: \n",
    "# Example call:   tf_variable = get_nn_parameter(...)\n",
    "def get_nn_parameter(variable_scope, variable_name, dim1, dim2):\n",
    "    '''\n",
    "    Used to retrieve or create new NN parameters (weights & biases)\n",
    "    When calling, the corresponding NNparameter's dimensions need to be specified too.\n",
    "    Returns a tensorflow variable. Note that NN parameters need to be tensorflow variables\n",
    "    so that values can be changed whenever needed when training. Also note that it is \n",
    "    explicitly defined that the created variable is TRAINABLE.\n",
    "    '''\n",
    "    with tf.variable_scope(variable_scope, reuse=tf.AUTO_REUSE):\n",
    "      v = tf.get_variable(variable_name, \n",
    "                          [dim1, dim2], \n",
    "                          trainable=True, \n",
    "                          initializer = tf.contrib.layers.xavier_initializer())\n",
    "    return v"
   ]
  },
  {
   "cell_type": "code",
   "execution_count": 4,
   "metadata": {},
   "outputs": [],
   "source": [
    "# FUNCTION: \n",
    "# Example call:   nn_parameters = initialize_layer_parameters([3, 5, 5, 2])\n",
    "def initialize_layer_parameters(num_units_in_layers):\n",
    "    '''\n",
    "    NOTE THAT THE LAST LAYER HAS TO HAVE AT LEAST 2 UNITS BCZ SOFTMAX IS USED IN THIS NN MODEL\n",
    "    Returns a dictionary of created weights and biases for all layers of the NN.\n",
    "    Note that # units can vary in each layer.\n",
    "    Exmaple return: parameters = {\"W1\": tf_variable_for_W1, \"b1\": tf_variable_for_b1, ...}\n",
    "    '''\n",
    "    \n",
    "    parameters = {}\n",
    "    L = len(num_units_in_layers)\n",
    "     \n",
    "    for i in range (1, L):\n",
    "        #print(\"W\" + str(i) + \" \" + str(num_units_in_layers[i]) + \" \" + str(num_units_in_layers[i-1]))\n",
    "        temp_weight = get_nn_parameter(\"weights\",\n",
    "                                       \"W\"+str(i), \n",
    "                                       num_units_in_layers[i], \n",
    "                                       num_units_in_layers[i-1])\n",
    "        parameters.update({\"W\" + str(i) : temp_weight})  \n",
    "        \n",
    "        #print(\"b\" + str(i) + \" \" + str(num_units_in_layers[i]) + \" \" + str(1))\n",
    "        temp_bias = get_nn_parameter(\"biases\",\n",
    "                                     \"b\"+str(i), \n",
    "                                     num_units_in_layers[i], \n",
    "                                     1)\n",
    "        parameters.update({\"b\" + str(i) : temp_bias})  \n",
    "        \n",
    "    return parameters"
   ]
  },
  {
   "cell_type": "code",
   "execution_count": 5,
   "metadata": {},
   "outputs": [],
   "source": [
    "# FUNCTION: \n",
    "# Example call: ZL = forward_propagation_with_relu(X_train, [3, 5, 5, 2], nn_parameters)\n",
    "def forward_propagation_with_relu(X, num_units_in_layers, parameters):\n",
    "    '''\n",
    "    Returns ZL, which is the linear output of the output layer (layer L)\n",
    "    AL is also calculated but it is not returned or used. The optimizer function takes ZL as input, not the AL.\n",
    "    What activation function is used in output layer plays role when calculating the cost \n",
    "    so that you need to call the right cost (or cross entropy) function in compute_cost(...) function\n",
    "    '''\n",
    "    L = len(num_units_in_layers)\n",
    "    \n",
    "    A_temp = X\n",
    "    for i in range (1, L):\n",
    "        #W = get_nn_parameter(\"weights\", \"W\"+str(i), num_units_in_layers[i], num_units_in_layers[i-1])\n",
    "        W = parameters.get(\"W\"+str(i))\n",
    "        #b = get_nn_parameter(\"biases\", \"b\"+str(i), num_units_in_layers[i], 1)\n",
    "        b = parameters.get(\"b\"+str(i))\n",
    "        Z_temp = tf.add(tf.matmul(W, A_temp), b)\n",
    "        A_temp = tf.nn.relu(Z_temp)       # Example: A1 = relu(Z1)1, Note that A in the last (output) \n",
    "                                          # layer is irrelevant bcz we return ZL\n",
    "\n",
    "    return Z_temp   #This is the linear output of last layer"
   ]
  },
  {
   "cell_type": "code",
   "execution_count": 6,
   "metadata": {},
   "outputs": [],
   "source": [
    "# FUNCTION\n",
    "# This function requires update if softmax is not used in the output layer\n",
    "def compute_cost(ZL, Y, parameters, mb_size, lambd):\n",
    "    \"\"\"\n",
    "    This function should be used for multinomial mutually exclusive classification, i.e. pick one out of N classes. \n",
    "    Also applicable when N = 2.\n",
    "    The labels must be one-hot encoded or can contain soft class probabilities: a particular example can belong to\n",
    "    class A with 50% probability and class B with 50% probability. Note that strictly speaking it doesn't mean that\n",
    "    it belongs to both classes, but one can interpret the probabilities this way.\n",
    "    \n",
    "    Arguments:\n",
    "    ZL -- output of forward propagation (output of the last LINEAR unit)\n",
    "    Y -- \"true\" labels vector placeholder, same shape as ZL\n",
    "    mb_size -- number of samples in the given mini-batch\n",
    "    lambd -- lambda regularization parameter (regularization deactivated is lambd=0.)\n",
    "    \n",
    "    Returns:\n",
    "    cost - Tensor of the cost function\n",
    "    \"\"\"\n",
    "    \n",
    "    # to fit the tensorflow requirement for tf.nn.softmax_cross_entropy_with_logits(...,...)\n",
    "    logits = tf.transpose(ZL)\n",
    "    labels = tf.transpose(Y)\n",
    "    \n",
    "    \n",
    "    # This cost calculation is unregularized. cost = (1/m) sum(Loss(y_hat(i), y(i))), where i = 1,..,mb_size \n",
    "    #tf.reduce_mean(..) function finds the mean of costs of examples in the given mini-batch\n",
    "    cost_unregularized = tf.reduce_mean(tf.nn.softmax_cross_entropy_with_logits_v2(logits = logits, labels = labels))\n",
    "    \n",
    "    # Add L2 regularization: cost += (lambd / (2 * mb_size)) * sum(W(i,j)**2), where i:1,..,n[l] and j:1,..,n[l-1] \n",
    "    # L:number of layers. Since the dict parameters includes both W and b, it needs to be divided with 2 to find L\n",
    "    L = len(parameters) // 2\n",
    "    \n",
    "    # The list will have L elements, each holding the sum of weight matrix values in each layer. Later, these\n",
    "    # weight values need to be summed up again\n",
    "    list_sum_weights = []\n",
    "    \n",
    "    for i in range (0, L):\n",
    "        list_sum_weights.append(tf.nn.l2_loss(parameters.get(\"W\"+str(i+1))))\n",
    "    \n",
    "    # in the following calculation, since the l2_loss returns \"sum(t ** 2) / 2\", where the sum of squares is already\n",
    "    # divided by 2, there is no need to bultiply the mb_size with 2\n",
    "    #regularization_effect = (lambd / mb_size) * sum(list_sum_weights)\n",
    "    regularization_effect = tf.multiply((lambd / mb_size), tf.add_n(list_sum_weights))\n",
    "    cost = tf.add(cost_unregularized, regularization_effect)\n",
    "    \n",
    "    return cost"
   ]
  },
  {
   "cell_type": "code",
   "execution_count": 7,
   "metadata": {},
   "outputs": [
    {
     "name": "stdout",
     "output_type": "stream",
     "text": [
      "1.1387842\n"
     ]
    }
   ],
   "source": [
    "# TEST CODE FOR TESTING THE compute_cost(...) function\n",
    "tf.reset_default_graph()\n",
    "tf.set_random_seed(1)  # tf.reset_default_graph() needs to be run first before calling tf.set_random_seed(..)\n",
    "\n",
    "num_units_in_layers = [5,4,3,2]\n",
    "\n",
    "X = tf.placeholder(shape=[5, 3], dtype=tf.float32)\n",
    "Y = tf.placeholder(shape=[2, 3], dtype=tf.float32)\n",
    "parameters = initialize_layer_parameters(num_units_in_layers)\n",
    "ZL = forward_propagation_with_relu(X, num_units_in_layers, parameters)\n",
    "cost = compute_cost(ZL, Y, parameters, 3, 0.05)\n",
    "optimizer =  tf.train.AdamOptimizer(learning_rate = 0.001).minimize(cost)\n",
    "init = tf.global_variables_initializer() \n",
    "\n",
    "test_sess = tf.Session()\n",
    "test_sess.run(init)\n",
    "_ , minibatch_cost = test_sess.run([optimizer, cost], \n",
    "                                   feed_dict={X: [[-1.,4.,-7.],[2.,6.,2.],[3.,3.,9.],[8.,4.,4.],[5.,3.,5.]], \n",
    "                                              Y: [[0.6, 0., 0.3], [0.4, 0., 0.7]]})\n",
    "\n",
    "#initial_cost = test_sess.run(cost, feed_dict={X: [[-1.,4.,-7.],[2.,6.,2.],[3.,3.,9.],[8.,4.,4.],[5.,3.,5.]],\n",
    "#                                              Y: [[0.6, 0., 0.3], [0.4, 0., 0.7]]})\n",
    "\n",
    "\n",
    "print(minibatch_cost)\n",
    "\n",
    "test_sess.close()"
   ]
  },
  {
   "cell_type": "code",
   "execution_count": 8,
   "metadata": {},
   "outputs": [],
   "source": [
    "def nn_model(X_train, Y_train, X_test, Y_test, learning_rate, num_epochs,\n",
    "             minibatch_size, num_units_in_layers, lambd, print_cost):\n",
    "    \"\"\"\n",
    "    Returns NN parameters after the completion of training.\n",
    "    \"\"\"\n",
    "    \n",
    "    tf.reset_default_graph()     # to be able to rerun the model without overwriting tf variables\n",
    "    #tf.set_random_seed(1)       # tf.reset_default_graph() needs to be run first before calling tf.set_random_seed(..)\n",
    "\n",
    "    costs = []                                        # To keep track of the cost\n",
    "    \n",
    "    # Create Placeholders of shape (n_x, n_y)\n",
    "    (n_x, m) = X_train.shape                          # (n_x: input size, m : number of examples in the train set)\n",
    "    n_y = Y_train.shape[0]                            # n_y : output size\n",
    "    X, Y = create_nn_placeholders(n_x, n_y)\n",
    "    \n",
    "    # Initialize parameters\n",
    "    parameters = initialize_layer_parameters(num_units_in_layers)\n",
    "    \n",
    "    # Forward propagation: Build the forward propagation in the tensorflow graph\n",
    "    ZL = forward_propagation_with_relu(X, num_units_in_layers, parameters)\n",
    "    \n",
    "    # Cost function: Add cost function to tensorflow graph\n",
    "    mb_size = tf.placeholder(tf.float32, name='mb_size')  #minibatch_size to use in regularization\n",
    "    cost = compute_cost(ZL, Y, parameters, mb_size, lambd)\n",
    "    \n",
    "    # Backpropagation: Define the tensorflow optimizer. Use an AdamOptimizer.\n",
    "    optimizer =  tf.train.AdamOptimizer(learning_rate = learning_rate).minimize(cost)\n",
    "    \n",
    "    # Initialize all the variables\n",
    "    init = tf.global_variables_initializer() \n",
    "    \n",
    "    sess = tf.Session()\n",
    "    sess.run(init)\n",
    "    \n",
    "    # Do the training loop\n",
    "    for epoch in range(num_epochs):\n",
    "\n",
    "        epoch_cost = 0.                       # Defines a cost related to an epoch\n",
    "        num_minibatches = int(m / minibatch_size) # number of minibatches of size minibatch_size in the train set\n",
    "        #seed = seed + 1\n",
    "        minibatches = num_minibatches\n",
    "            \n",
    "        for minibatch in range (minibatches):\n",
    "            #print(learning_rate)\n",
    "            # Select a minibatch\n",
    "            minibatch_X = X_train\n",
    "            minibatch_Y = Y_train\n",
    "                \n",
    "            # IMPORTANT: The line that runs the graph on a minibatch.\n",
    "            # Run the session to execute the \"optimizer\" and the \"cost\", the feedict should contain a minibatch for (X,Y).\n",
    "            numExamplesInCurrentBatch = minibatch_X.shape[1]\n",
    "            _ , minibatch_cost = sess.run([optimizer, cost], \n",
    "                                          feed_dict={X: minibatch_X, \n",
    "                                                     Y: minibatch_Y,\n",
    "                                                     mb_size: numExamplesInCurrentBatch})\n",
    "                \n",
    "            #print(\"numExamplesInCurrentBatch = \" + str(numExamplesInCurrentBatch))\n",
    "               \n",
    "            # IN CASE, YOU IMPLEMENT  DROPOUT REGULARIZATION, HERE IS THE EXAMPLE CODE. PLACE IT WHERE IT NEEDS TO BE\n",
    "            # IT JUST NEEDS TO BE USED THE COMPUTE_COST FUNCTION ACTUALLY...\n",
    "            # A1 = tf.nn.dropout(A1, keep_prob=keep_p)\n",
    "                \n",
    "            epoch_cost += minibatch_cost / num_minibatches\n",
    "            \n",
    "        # Print the cost every epoch\n",
    "        if print_cost == True and epoch % 10 == 0:\n",
    "            print (\"Cost after epoch %i: %f\" % (epoch, epoch_cost))\n",
    "        if print_cost == True and epoch % 5 == 0:\n",
    "            costs.append(epoch_cost)\n",
    "                \n",
    "    # plot the cost\n",
    "    plt.plot(np.squeeze(costs))\n",
    "    plt.ylabel('cost')\n",
    "    plt.xlabel('iterations (per tens)')\n",
    "    plt.title(\"Learning rate =\" + str(learning_rate))\n",
    "    plt.show()\n",
    "\n",
    "    # lets save the parameters in a variable\n",
    "    parameters = sess.run(parameters)\n",
    "    print (\"Parameters have been trained!\")\n",
    "\n",
    "    # Calculate the correct predictions\n",
    "    correct_prediction = tf.equal(tf.argmax(ZL), tf.argmax(Y))\n",
    "\n",
    "    # Calculate accuracy on the test set\n",
    "    accuracy = tf.reduce_mean(tf.cast(correct_prediction, \"float\"))\n",
    "\n",
    "    print (\"Train Accuracy:\", accuracy.eval(session=sess, feed_dict={X: X_train, Y: Y_train}))\n",
    "    print (\"Test Accuracy:\", accuracy.eval(session=sess, feed_dict={X: X_test, Y: Y_test}))\n",
    "    \n",
    "    sess.close()\n",
    "    \n",
    "    return parameters"
   ]
  },
  {
   "cell_type": "code",
   "execution_count": 9,
   "metadata": {
    "scrolled": false
   },
   "outputs": [
    {
     "name": "stdout",
     "output_type": "stream",
     "text": [
      "Cost after epoch 0: 1.211954\n",
      "Cost after epoch 10: 0.998918\n",
      "Cost after epoch 20: 0.817819\n",
      "Cost after epoch 30: 0.660246\n",
      "Cost after epoch 40: 0.136063\n",
      "Cost after epoch 50: 0.032631\n"
     ]
    },
    {
     "data": {
      "image/png": "[encoded data removed]",
      "text/plain": [
       "<matplotlib.figure.Figure at 0x7fb512fa1470>"
      ]
     },
     "metadata": {},
     "output_type": "display_data"
    },
    {
     "name": "stdout",
     "output_type": "stream",
     "text": [
      "Parameters have been trained!\n",
      "Train Accuracy: 1.0\n",
      "Test Accuracy: 1.0\n"
     ]
    },
    {
     "data": {
      "text/plain": [
       "{'W1': array([[-0.11512583,  0.19306064, -0.81568444, -0.051974  , -0.09166741],\n",
       "        [-0.820789  , -0.20797144,  0.09524529,  0.00412735,  0.73404497],\n",
       "        [-0.35475236, -1.0209918 ,  0.5200488 , -0.17201208,  0.33751267],\n",
       "        [-0.4849321 , -0.6735957 , -0.5696551 , -0.575947  , -0.8014692 ]],\n",
       "       dtype=float32),\n",
       " 'W2': array([[ 0.07387549, -0.8189524 , -0.78105015, -0.4279087 ],\n",
       "        [-0.31153423,  0.5844176 , -0.03496258,  0.06460911],\n",
       "        [ 0.32245827,  0.82985896, -0.02295909, -0.4270891 ]],\n",
       "       dtype=float32),\n",
       " 'W3': array([[ 0.05739209,  0.5837955 ,  0.8621709 ],\n",
       "        [-0.6989815 , -0.2702042 , -0.18813634]], dtype=float32),\n",
       " 'b1': array([[ 0.9870131 ],\n",
       "        [-0.62879145],\n",
       "        [ 0.2566456 ],\n",
       "        [ 0.28253913]], dtype=float32),\n",
       " 'b2': array([[0.623573 ],\n",
       "        [1.083892 ],\n",
       "        [1.3184326]], dtype=float32),\n",
       " 'b3': array([[1.0303432],\n",
       "        [0.9391197]], dtype=float32)}"
      ]
     },
     "execution_count": 9,
     "metadata": {},
     "output_type": "execute_result"
    }
   ],
   "source": [
    "# X/Y_train and X/Y_test need to be replaced with file paths\n",
    "X_train = np.array([[-1.,4.,-7.],[2.,6.,2.],[3.,3.,9.],[8.,4.,4.],[5.,3.,5.]])\n",
    "Y_train = np.array([[1., 1., 1.], [0., 0., 0.]])\n",
    "X_test = np.array([[2.],[3.],[1.],[4.],[7.]])\n",
    "Y_test = np.array([[1.],[0.]])\n",
    "learning_rate = 0.01 \n",
    "num_epochs = 60\n",
    "minibatch_size = 3 \n",
    "num_units_in_layers = [5,4,3,2] \n",
    "lambd = 0. \n",
    "print_cost = True\n",
    "\n",
    "nn_model(X_train, Y_train, X_test, Y_test, learning_rate, num_epochs,\n",
    "         minibatch_size, num_units_in_layers, lambd, print_cost)\n",
    "                  \n",
    "#parameters = nn_model(X_train = np.array([[-1.,4.,-7.],[2.,6.,2.],[3.,3.,9.],[8.,4.,4.],[5.,3.,5.]]),\n",
    "#                      Y_train = np.array([[1., 1., 1.], [0., 0., 0.]]), \n",
    "#                      X_test = np.array([[2.],[3.],[1.],[4.],[7.]]),\n",
    "#                      Y_test = np.array([[1.],[0.]]))"
   ]
  },
  {
   "cell_type": "code",
   "execution_count": 10,
   "metadata": {},
   "outputs": [
    {
     "name": "stdout",
     "output_type": "stream",
     "text": [
      "[1, 5]\n",
      "6\n"
     ]
    }
   ],
   "source": [
    "#TODO\n",
    "# Add tf.Dataset functionality and read data from csv files\n",
    "# Split data into train, dev, test sets by using tf.Split(...) function\n",
    "# Add mini-batch support with shuffling implemented   (use tf.train.shuffle_batch(...))\n",
    "# Save NN parameters somewhere after (How?)\n",
    "\n",
    "abc = []\n",
    "abc.append(1)\n",
    "abc.append(5)\n",
    "print(abc)\n",
    "print(sum(abc))"
   ]
  },
  {
   "cell_type": "code",
   "execution_count": 11,
   "metadata": {},
   "outputs": [
    {
     "name": "stdout",
     "output_type": "stream",
     "text": [
      "(3,)\n"
     ]
    }
   ],
   "source": [
    "der = np.array([2,2,2])\n",
    "print(der.shape)"
   ]
  },
  {
   "cell_type": "code",
   "execution_count": null,
   "metadata": {},
   "outputs": [],
   "source": []
  }
 ],
 "metadata": {
  "kernelspec": {
   "display_name": "Python 3",
   "language": "python",
   "name": "python3"
  },
  "language_info": {
   "codemirror_mode": {
    "name": "ipython",
    "version": 3
   },
   "file_extension": ".py",
   "mimetype": "text/x-python",
   "name": "python",
   "nbconvert_exporter": "python",
   "pygments_lexer": "ipython3",
   "version": "3.5.4"
  }
 },
 "nbformat": 4,
 "nbformat_minor": 2
}
